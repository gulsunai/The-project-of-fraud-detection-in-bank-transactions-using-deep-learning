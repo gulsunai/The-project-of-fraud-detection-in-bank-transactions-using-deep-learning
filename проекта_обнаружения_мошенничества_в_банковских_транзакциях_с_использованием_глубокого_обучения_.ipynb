{
  "nbformat": 4,
  "nbformat_minor": 0,
  "metadata": {
    "colab": {
      "provenance": []
    },
    "kernelspec": {
      "name": "python3",
      "display_name": "Python 3"
    },
    "language_info": {
      "name": "python"
    }
  },
  "cells": [
    {
      "cell_type": "code",
      "execution_count": 1,
      "metadata": {
        "id": "ifcOeyikR_eK"
      },
      "outputs": [],
      "source": [
        "import numpy as np\n",
        "import pandas as pd\n",
        "\n",
        "# Создание симулированных данных\n",
        "n_normal_transactions = 8000\n",
        "n_fraud_transactions = 200\n",
        "\n",
        "# Генерация данных для нормальных транзакций\n",
        "mean_normal = [100.0, 30.0, 400.0]\n",
        "std_normal = [20.0, 10.0, 50.0]\n",
        "normal_transactions = np.random.normal(mean_normal, std_normal, (n_normal_transactions, 3))\n",
        "\n",
        "# Генерация данных для мошеннических транзакций\n",
        "mean_fraud = [200.0, 10.0, 1000.0]\n",
        "std_fraud = [50.0, 5.0, 200.0]\n",
        "fraud_transactions = np.random.normal(mean_fraud, std_fraud, (n_fraud_transactions, 3))\n",
        "\n",
        "# Создание DataFrame\n",
        "columns = [\"amount\", \"time\", \"merchant_id\"]\n",
        "normal_df = pd.DataFrame(normal_transactions, columns=columns)\n",
        "fraud_df = pd.DataFrame(fraud_transactions, columns=columns)\n",
        "\n",
        "# Добавление метки \"is_fraud\" для обеих категорий транзакций\n",
        "normal_df[\"is_fraud\"] = 0\n",
        "fraud_df[\"is_fraud\"] = 1\n",
        "\n",
        "# Объединение данных\n",
        "data = pd.concat([normal_df, fraud_df], ignore_index=True)\n",
        "\n",
        "# Перемешивание данных\n",
        "data = data.sample(frac=1).reset_index(drop=True)\n",
        "\n",
        "# Сохранение данных в CSV\n",
        "data.to_csv(\"bank_transactions.csv\", index=False)\n"
      ]
    },
    {
      "cell_type": "code",
      "source": [
        "import numpy as np\n",
        "import pandas as pd\n",
        "from sklearn.model_selection import train_test_split\n",
        "from sklearn.preprocessing import StandardScaler\n",
        "from sklearn.metrics import classification_report\n",
        "import tensorflow as tf\n",
        "from tensorflow import keras\n",
        "from tensorflow.keras import layers\n",
        "\n",
        "# Создание симулированных данных\n",
        "n_normal_transactions = 8000\n",
        "n_fraud_transactions = 200\n",
        "\n",
        "# ... (предыдущий код для создания данных)\n",
        "\n",
        "# Разделение данных на обучающий и тестовый набор\n",
        "X = data.drop(\"is_fraud\", axis=1)\n",
        "y = data[\"is_fraud\"]\n",
        "\n",
        "X_train, X_test, y_train, y_test = train_test_split(X, y, test_size=0.2, random_state=42)\n",
        "\n",
        "# Предварительная обработка данных\n",
        "scaler = StandardScaler()\n",
        "X_train = scaler.fit_transform(X_train)\n",
        "X_test = scaler.transform(X_test)\n",
        "\n",
        "# Создание глубокой нейронной сети\n",
        "model = keras.Sequential([\n",
        "    layers.Input(shape=(X_train.shape[1],)),\n",
        "    layers.Dense(128, activation=\"relu\"),\n",
        "    layers.Dense(64, activation=\"relu\"),\n",
        "    layers.Dense(1, activation=\"sigmoid\")\n",
        "])\n",
        "\n",
        "model.compile(optimizer=\"adam\", loss=\"binary_crossentropy\", metrics=[\"accuracy\"])\n",
        "\n",
        "# Обучение модели\n",
        "model.fit(X_train, y_train, epochs=10, batch_size=32, validation_split=0.2)\n",
        "\n",
        "# Оценка производительности модели\n",
        "y_pred = model.predict(X_test)\n",
        "y_pred = (y_pred > 0.5)\n",
        "print(classification_report(y_test, y_pred))\n"
      ],
      "metadata": {
        "colab": {
          "base_uri": "https://localhost:8080/"
        },
        "id": "-mod6o5oS2e3",
        "outputId": "de3c368d-392a-4f21-b57a-a9eae96d2063"
      },
      "execution_count": 2,
      "outputs": [
        {
          "output_type": "stream",
          "name": "stdout",
          "text": [
            "Epoch 1/10\n",
            "164/164 [==============================] - 3s 8ms/step - loss: 0.1427 - accuracy: 0.9766 - val_loss: 0.0103 - val_accuracy: 0.9992\n",
            "Epoch 2/10\n",
            "164/164 [==============================] - 1s 3ms/step - loss: 0.0077 - accuracy: 0.9987 - val_loss: 0.0062 - val_accuracy: 0.9992\n",
            "Epoch 3/10\n",
            "164/164 [==============================] - 1s 4ms/step - loss: 0.0040 - accuracy: 0.9992 - val_loss: 0.0038 - val_accuracy: 0.9992\n",
            "Epoch 4/10\n",
            "164/164 [==============================] - 1s 4ms/step - loss: 0.0037 - accuracy: 0.9992 - val_loss: 0.0024 - val_accuracy: 0.9992\n",
            "Epoch 5/10\n",
            "164/164 [==============================] - 1s 4ms/step - loss: 0.0030 - accuracy: 0.9996 - val_loss: 0.0017 - val_accuracy: 0.9992\n",
            "Epoch 6/10\n",
            "164/164 [==============================] - 1s 3ms/step - loss: 0.0026 - accuracy: 0.9996 - val_loss: 0.0016 - val_accuracy: 0.9992\n",
            "Epoch 7/10\n",
            "164/164 [==============================] - 0s 2ms/step - loss: 0.0027 - accuracy: 0.9994 - val_loss: 0.0013 - val_accuracy: 0.9992\n",
            "Epoch 8/10\n",
            "164/164 [==============================] - 0s 2ms/step - loss: 0.0025 - accuracy: 0.9996 - val_loss: 9.2601e-04 - val_accuracy: 1.0000\n",
            "Epoch 9/10\n",
            "164/164 [==============================] - 0s 2ms/step - loss: 0.0025 - accuracy: 0.9996 - val_loss: 7.4503e-04 - val_accuracy: 1.0000\n",
            "Epoch 10/10\n",
            "164/164 [==============================] - 0s 2ms/step - loss: 0.0024 - accuracy: 0.9996 - val_loss: 0.0012 - val_accuracy: 1.0000\n",
            "52/52 [==============================] - 0s 1ms/step\n",
            "              precision    recall  f1-score   support\n",
            "\n",
            "           0       1.00      1.00      1.00      1600\n",
            "           1       1.00      1.00      1.00        40\n",
            "\n",
            "    accuracy                           1.00      1640\n",
            "   macro avg       1.00      1.00      1.00      1640\n",
            "weighted avg       1.00      1.00      1.00      1640\n",
            "\n"
          ]
        }
      ]
    }
  ]
}